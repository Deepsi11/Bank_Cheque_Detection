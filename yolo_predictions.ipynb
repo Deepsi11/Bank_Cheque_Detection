{
 "cells": [
  {
   "cell_type": "code",
   "execution_count": null,
   "id": "52381b26-fc63-4453-911f-273b08350560",
   "metadata": {},
   "outputs": [],
   "source": [
    "#!pip install PyYAML"
   ]
  },
  {
   "cell_type": "code",
   "execution_count": 2,
   "id": "300d1867-e13e-47a1-9030-a5dd9e44fcf1",
   "metadata": {},
   "outputs": [
    {
     "name": "stdout",
     "output_type": "stream",
     "text": [
      "Defaulting to user installation because normal site-packages is not writeable\n",
      "Collecting opencv-python\n",
      "  Using cached opencv_python-4.9.0.80-cp37-abi3-win_amd64.whl.metadata (20 kB)\n",
      "Requirement already satisfied: numpy>=1.21.2 in c:\\users\\umesh kumar\\appdata\\roaming\\python\\python311\\site-packages (from opencv-python) (1.26.2)\n",
      "Using cached opencv_python-4.9.0.80-cp37-abi3-win_amd64.whl (38.6 MB)\n",
      "Installing collected packages: opencv-python\n",
      "Successfully installed opencv-python-4.9.0.80\n",
      "Note: you may need to restart the kernel to use updated packages.\n"
     ]
    },
    {
     "name": "stderr",
     "output_type": "stream",
     "text": [
      "DEPRECATION: Loading egg at c:\\program files\\python311\\lib\\site-packages\\vboxapi-1.0-py3.11.egg is deprecated. pip 24.3 will enforce this behaviour change. A possible replacement is to use pip for package installation.. Discussion can be found at https://github.com/pypa/pip/issues/12330\n"
     ]
    }
   ],
   "source": [
    "#pip install opencv-python"
   ]
  },
  {
   "cell_type": "code",
   "execution_count": 19,
   "id": "a03aab6b-e33f-4e77-bf03-076bf8f817d3",
   "metadata": {},
   "outputs": [],
   "source": [
    "import cv2\n",
    "import numpy as np\n",
    "import os\n",
    "import yaml\n",
    "from yaml.loader import SafeLoader"
   ]
  },
  {
   "cell_type": "code",
   "execution_count": 20,
   "id": "1d99ef8d-077d-42bd-a360-de48b90f8a8d",
   "metadata": {},
   "outputs": [
    {
     "name": "stdout",
     "output_type": "stream",
     "text": [
      "['IssueBank', 'ReceiverName', 'AccountNo', 'ChequeNo.', 'DateIssue', 'Ammount', 'Sign']\n"
     ]
    }
   ],
   "source": [
    "# Load YAML\n",
    "with open('data.yaml', mode='r') as f:\n",
    "    data_yaml = yaml.load(f,Loader=SafeLoader)\n",
    "\n",
    "\n",
    "labels = data_yaml['names']\n",
    "print(labels)"
   ]
  },
  {
   "cell_type": "code",
   "execution_count": 21,
   "id": "1baf4456-2b7a-4b61-9d97-89a738167fdd",
   "metadata": {},
   "outputs": [],
   "source": [
    "# Load YOLO Model\n",
    "yolo = cv2.dnn.readNetFromONNX('./Model/weights/best.onnx')\n",
    "yolo.setPreferableBackend(cv2.dnn.DNN_BACKEND_OPENCV)\n",
    "yolo.setPreferableTarget(cv2.dnn.DNN_TARGET_CPU)"
   ]
  },
  {
   "cell_type": "code",
   "execution_count": 22,
   "id": "2f130166-8194-4cef-a19a-85515a319eee",
   "metadata": {},
   "outputs": [],
   "source": [
    "# Load the image\n",
    "img = cv2.imread('chq.jpg.jpg')\n",
    "image = img.copy()\n",
    "row, col, d = image.shape\n",
    "\n",
    "# Get the YOLO prediction from the image\n",
    "# step-1 convert image into square image (array)\n",
    "max_rc = max(row, col)\n",
    "input_image = np.zeros((max_rc, max_rc, 3), dtype=np.uint8)\n",
    "input_image[0:row,0:col] = image\n",
    "\n",
    "# step-2: get prediction from square array\n",
    "INPUT_WH_YOLO = 640\n",
    "blob = cv2.dnn.blobFromImage(input_image, 1/255, (INPUT_WH_YOLO, INPUT_WH_YOLO), swapRB=True, crop=False)\n",
    "yolo.setInput(blob)\n",
    "preds = yolo.forward()   # detection or prediction from YOLO"
   ]
  },
  {
   "cell_type": "code",
   "execution_count": 23,
   "id": "9c695db5-c478-4f9c-b654-633356f56fec",
   "metadata": {},
   "outputs": [
    {
     "name": "stdout",
     "output_type": "stream",
     "text": [
      "[[[4.0168505e+00 1.7234898e+00 2.7567961e+01 ... 1.8539418e-01\n",
      "   6.3932128e-02 6.9228768e-02]\n",
      "  [1.2838647e+01 1.4932866e+00 2.8103695e+01 ... 1.7429283e-01\n",
      "   3.9177015e-02 7.1260631e-02]\n",
      "  [2.0332840e+01 1.2429647e+00 3.1333464e+01 ... 1.7109732e-01\n",
      "   3.3423785e-02 7.0292294e-02]\n",
      "  ...\n",
      "  [5.7076135e+02 6.3433179e+02 5.0670584e+02 ... 1.3442059e-01\n",
      "   9.5744498e-02 1.9229336e-01]\n",
      "  [6.0134656e+02 6.3375299e+02 5.2751019e+02 ... 1.4253397e-01\n",
      "   9.2595249e-02 1.9089629e-01]\n",
      "  [6.3580927e+02 6.3139709e+02 4.4287405e+02 ... 1.5619877e-01\n",
      "   9.1134556e-02 1.7358252e-01]]]\n"
     ]
    }
   ],
   "source": [
    "print(preds)"
   ]
  },
  {
   "cell_type": "code",
   "execution_count": 24,
   "id": "b08f3512-9a33-4c58-81ab-87e907ee34d7",
   "metadata": {},
   "outputs": [
    {
     "name": "stdout",
     "output_type": "stream",
     "text": [
      "(1, 25200, 12)\n"
     ]
    }
   ],
   "source": [
    "print(preds.shape)"
   ]
  },
  {
   "cell_type": "code",
   "execution_count": 25,
   "id": "04918b5e-7eb3-44c1-b62d-f589fbf12f31",
   "metadata": {},
   "outputs": [],
   "source": [
    "# Non Maximum Supression\n",
    "# step-1: filter detection based on confidence (0.4) and probability score (0.25)\n",
    "detections = preds[0]\n",
    "boxes = []\n",
    "confidences = []\n",
    "classes = []\n",
    "\n",
    "# width and height of the image (input_image)\n",
    "image_w, image_h = input_image.shape[:2]\n",
    "x_factor = image_w/INPUT_WH_YOLO\n",
    "y_factor = image_h/INPUT_WH_YOLO\n",
    "\n",
    "for i in range(len(detections)):\n",
    "    row = detections[i]\n",
    "    confidence = row[4] # confidence of detection on object\n",
    "    if confidence > 0.4:\n",
    "        class_score = row[5:].max() # maximum probability from 7 objects\n",
    "        class_id = row[5:].argmax() # get the index position at which max probability occur\n",
    "\n",
    "        if class_score > 0.25:\n",
    "            cx, cy, w, h = row[0:4]\n",
    "            # construct bounding from four values\n",
    "            # Left, top, width, height\n",
    "            left = int((cx - 0.5*w)*x_factor)\n",
    "            top = int((cy - 0.5*h)*y_factor)\n",
    "            width = int(w*x_factor)\n",
    "            height = int(h*y_factor)\n",
    "\n",
    "            box = np.array([left, top, width, height])\n",
    "\n",
    "            # append values into the list\n",
    "            confidences.append(confidence)\n",
    "            boxes.append(box)\n",
    "            classes.append(class_id)\n",
    "\n",
    "\n",
    "# clean\n",
    "boxes_np = np.array(boxes).tolist()\n",
    "confidences_np = np.array(confidences).tolist()\n",
    "\n",
    "# NMS\n",
    "index = cv2.dnn.NMSBoxes(boxes_np, confidences_np, 0.25, 0.45).flatten()"
   ]
  },
  {
   "cell_type": "code",
   "execution_count": 26,
   "id": "aa317990-7b5c-478d-9ebc-788612baabd2",
   "metadata": {},
   "outputs": [
    {
     "data": {
      "text/plain": [
       "array([23, 39, 35, 40, 27, 32, 52])"
      ]
     },
     "execution_count": 26,
     "metadata": {},
     "output_type": "execute_result"
    }
   ],
   "source": [
    "index"
   ]
  },
  {
   "cell_type": "code",
   "execution_count": 11,
   "id": "7f60ef3c-9c87-4532-8045-fee45046ad3e",
   "metadata": {},
   "outputs": [],
   "source": [
    "# Draw the Bounding\n",
    "for ind in index:\n",
    "    # extract bounding box\n",
    "    x, y, w, h = boxes_np[ind]\n",
    "    bb_conf = int(confidences_np[ind]*100)\n",
    "    classes_id = classes[ind]\n",
    "    class_name = labels[classes_id]\n",
    "\n",
    "    text = f'{class_name}: {bb_conf}%'\n",
    "\n",
    "    cv2.rectangle(image,(x,y),(x+w, y+h), (0, 255, 0), 2)\n",
    "    cv2.rectangle(image,(x,y-30),(x+w, y), (255, 255, 255), -1)\n",
    "\n",
    "    cv2.putText(image,text,(x,y-10), cv2.FONT_HERSHEY_PLAIN,0.7,(0,0,0),1)    "
   ]
  },
  {
   "cell_type": "code",
   "execution_count": 12,
   "id": "f34a7e84-07f9-440a-9f2e-5d4008c60c20",
   "metadata": {},
   "outputs": [],
   "source": [
    "# cv2.imshow('original',img)\n",
    "# cv2.imshow('yolo_prediction',image)\n",
    "# cv2.waitKey(0)\n",
    "# cv2.destroyAllWindows()"
   ]
  },
  {
   "cell_type": "code",
   "execution_count": 27,
   "id": "15aed035-8450-4788-acef-392abe4c8ebb",
   "metadata": {},
   "outputs": [],
   "source": [
    "# Draw the Bounding\n",
    "for ind in index:\n",
    "    # extract bounding box\n",
    "    x, y, w, h = boxes_np[ind]\n",
    "    bb_conf = int(confidences_np[ind]*100)\n",
    "    classes_id = classes[ind]\n",
    "    class_name = labels[classes_id]\n",
    "\n",
    "    text = f'{class_name}: {bb_conf}%'\n",
    "\n",
    "    cv2.rectangle(image,(x,y),(x+w, y+h), (0, 255, 0), 2)\n",
    "    cv2.rectangle(image,(x,y-30),(x+w, y), (255, 255, 255), -1)\n",
    "\n",
    "    # Increase font size by changing fontScale parameter\n",
    "    cv2.putText(image, text, (x,y-10), cv2.FONT_HERSHEY_PLAIN, 1.5, (0,0,0), 2)\n"
   ]
  },
  {
   "cell_type": "code",
   "execution_count": 28,
   "id": "af485c11-679d-49c0-82eb-6660aef6f6bb",
   "metadata": {},
   "outputs": [],
   "source": [
    "# Resize the output image to a smaller dimension for zooming out\n",
    "zoom_out_scale = 0.6  # You can adjust this value to control the zoom level\n",
    "\n",
    "# Calculate the new dimensions for zooming out\n",
    "new_width = int(image.shape[1] * zoom_out_scale)\n",
    "new_height = int(image.shape[0] * zoom_out_scale)\n",
    "\n",
    "# Resize the image to the new dimensions\n",
    "zoomed_out_image = cv2.resize(image, (new_width, new_height))\n",
    "\n",
    "# Display the zoomed out image\n",
    "cv2.imshow('Zoomed Out Image', zoomed_out_image)\n",
    "cv2.waitKey(0)\n",
    "cv2.destroyAllWindows()"
   ]
  },
  {
   "cell_type": "code",
   "execution_count": null,
   "id": "c24ce060-417e-44ff-8922-1eb12e974cf4",
   "metadata": {},
   "outputs": [],
   "source": []
  }
 ],
 "metadata": {
  "kernelspec": {
   "display_name": "Python 3 (ipykernel)",
   "language": "python",
   "name": "python3"
  },
  "language_info": {
   "codemirror_mode": {
    "name": "ipython",
    "version": 3
   },
   "file_extension": ".py",
   "mimetype": "text/x-python",
   "name": "python",
   "nbconvert_exporter": "python",
   "pygments_lexer": "ipython3",
   "version": "3.11.3"
  }
 },
 "nbformat": 4,
 "nbformat_minor": 5
}
